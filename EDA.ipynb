{
 "cells": [
  {
   "cell_type": "code",
   "execution_count": 1,
   "id": "26be2eb3-1967-4571-b6c6-fdea1ac506b2",
   "metadata": {},
   "outputs": [],
   "source": [
    "### IMPORT: ------------------------------------\n",
    "import scipy.stats as stats #It has all the probability distributions available along with many statistical functions.\n",
    "import pandas as pd\n",
    "import numpy as np\n",
    "import matplotlib.pyplot as plt\n",
    "%matplotlib inline\n",
    "import seaborn as sns\n",
    "import warnings\n",
    "warnings.filterwarnings('ignore') # To supress warnings\n",
    "# sns.set(style=\"darkgrid\") # set the background for the graphs\n",
    "# from scipy.stats import skew"
   ]
  },
  {
   "cell_type": "code",
   "execution_count": 5,
   "id": "c2c85b2e-1417-410c-8a55-2e12a346ac50",
   "metadata": {},
   "outputs": [],
   "source": [
    "#Reading the csv file salary.csv\n",
    "df = pd.read_csv(r\"C:\\Users\\Asus\\Downloads\\Salary Data.csv\")\n",
    "insured=df.copy()"
   ]
  },
  {
   "cell_type": "code",
   "execution_count": 6,
   "id": "cbed241b-84d5-42c5-8522-998b84df59c8",
   "metadata": {},
   "outputs": [
    {
     "data": {
      "text/html": [
       "<div>\n",
       "<style scoped>\n",
       "    .dataframe tbody tr th:only-of-type {\n",
       "        vertical-align: middle;\n",
       "    }\n",
       "\n",
       "    .dataframe tbody tr th {\n",
       "        vertical-align: top;\n",
       "    }\n",
       "\n",
       "    .dataframe thead th {\n",
       "        text-align: right;\n",
       "    }\n",
       "</style>\n",
       "<table border=\"1\" class=\"dataframe\">\n",
       "  <thead>\n",
       "    <tr style=\"text-align: right;\">\n",
       "      <th></th>\n",
       "      <th>Age</th>\n",
       "      <th>Gender</th>\n",
       "      <th>Education Level</th>\n",
       "      <th>Job Title</th>\n",
       "      <th>Years of Experience</th>\n",
       "      <th>Salary</th>\n",
       "    </tr>\n",
       "  </thead>\n",
       "  <tbody>\n",
       "    <tr>\n",
       "      <th>0</th>\n",
       "      <td>32.0</td>\n",
       "      <td>Male</td>\n",
       "      <td>Bachelor's</td>\n",
       "      <td>Software Engineer</td>\n",
       "      <td>5.0</td>\n",
       "      <td>90000.0</td>\n",
       "    </tr>\n",
       "    <tr>\n",
       "      <th>1</th>\n",
       "      <td>28.0</td>\n",
       "      <td>Female</td>\n",
       "      <td>Master's</td>\n",
       "      <td>Data Analyst</td>\n",
       "      <td>3.0</td>\n",
       "      <td>65000.0</td>\n",
       "    </tr>\n",
       "    <tr>\n",
       "      <th>2</th>\n",
       "      <td>45.0</td>\n",
       "      <td>Male</td>\n",
       "      <td>PhD</td>\n",
       "      <td>Senior Manager</td>\n",
       "      <td>15.0</td>\n",
       "      <td>150000.0</td>\n",
       "    </tr>\n",
       "    <tr>\n",
       "      <th>3</th>\n",
       "      <td>36.0</td>\n",
       "      <td>Female</td>\n",
       "      <td>Bachelor's</td>\n",
       "      <td>Sales Associate</td>\n",
       "      <td>7.0</td>\n",
       "      <td>60000.0</td>\n",
       "    </tr>\n",
       "    <tr>\n",
       "      <th>4</th>\n",
       "      <td>52.0</td>\n",
       "      <td>Male</td>\n",
       "      <td>Master's</td>\n",
       "      <td>Director</td>\n",
       "      <td>20.0</td>\n",
       "      <td>200000.0</td>\n",
       "    </tr>\n",
       "  </tbody>\n",
       "</table>\n",
       "</div>"
      ],
      "text/plain": [
       "    Age  Gender Education Level          Job Title  Years of Experience  \\\n",
       "0  32.0    Male      Bachelor's  Software Engineer                  5.0   \n",
       "1  28.0  Female        Master's       Data Analyst                  3.0   \n",
       "2  45.0    Male             PhD     Senior Manager                 15.0   \n",
       "3  36.0  Female      Bachelor's    Sales Associate                  7.0   \n",
       "4  52.0    Male        Master's           Director                 20.0   \n",
       "\n",
       "     Salary  \n",
       "0   90000.0  \n",
       "1   65000.0  \n",
       "2  150000.0  \n",
       "3   60000.0  \n",
       "4  200000.0  "
      ]
     },
     "execution_count": 6,
     "metadata": {},
     "output_type": "execute_result"
    }
   ],
   "source": [
    "# inspect data, print top 5\n",
    "insured.head()"
   ]
  },
  {
   "cell_type": "code",
   "execution_count": 7,
   "id": "abb08e0a-87cf-4612-81cb-94b331b91f72",
   "metadata": {},
   "outputs": [
    {
     "data": {
      "text/html": [
       "<div>\n",
       "<style scoped>\n",
       "    .dataframe tbody tr th:only-of-type {\n",
       "        vertical-align: middle;\n",
       "    }\n",
       "\n",
       "    .dataframe tbody tr th {\n",
       "        vertical-align: top;\n",
       "    }\n",
       "\n",
       "    .dataframe thead th {\n",
       "        text-align: right;\n",
       "    }\n",
       "</style>\n",
       "<table border=\"1\" class=\"dataframe\">\n",
       "  <thead>\n",
       "    <tr style=\"text-align: right;\">\n",
       "      <th></th>\n",
       "      <th>Age</th>\n",
       "      <th>Gender</th>\n",
       "      <th>Education Level</th>\n",
       "      <th>Job Title</th>\n",
       "      <th>Years of Experience</th>\n",
       "      <th>Salary</th>\n",
       "    </tr>\n",
       "  </thead>\n",
       "  <tbody>\n",
       "    <tr>\n",
       "      <th>370</th>\n",
       "      <td>35.0</td>\n",
       "      <td>Female</td>\n",
       "      <td>Bachelor's</td>\n",
       "      <td>Senior Marketing Analyst</td>\n",
       "      <td>8.0</td>\n",
       "      <td>85000.0</td>\n",
       "    </tr>\n",
       "    <tr>\n",
       "      <th>371</th>\n",
       "      <td>43.0</td>\n",
       "      <td>Male</td>\n",
       "      <td>Master's</td>\n",
       "      <td>Director of Operations</td>\n",
       "      <td>19.0</td>\n",
       "      <td>170000.0</td>\n",
       "    </tr>\n",
       "    <tr>\n",
       "      <th>372</th>\n",
       "      <td>29.0</td>\n",
       "      <td>Female</td>\n",
       "      <td>Bachelor's</td>\n",
       "      <td>Junior Project Manager</td>\n",
       "      <td>2.0</td>\n",
       "      <td>40000.0</td>\n",
       "    </tr>\n",
       "    <tr>\n",
       "      <th>373</th>\n",
       "      <td>34.0</td>\n",
       "      <td>Male</td>\n",
       "      <td>Bachelor's</td>\n",
       "      <td>Senior Operations Coordinator</td>\n",
       "      <td>7.0</td>\n",
       "      <td>90000.0</td>\n",
       "    </tr>\n",
       "    <tr>\n",
       "      <th>374</th>\n",
       "      <td>44.0</td>\n",
       "      <td>Female</td>\n",
       "      <td>PhD</td>\n",
       "      <td>Senior Business Analyst</td>\n",
       "      <td>15.0</td>\n",
       "      <td>150000.0</td>\n",
       "    </tr>\n",
       "  </tbody>\n",
       "</table>\n",
       "</div>"
      ],
      "text/plain": [
       "      Age  Gender Education Level                      Job Title  \\\n",
       "370  35.0  Female      Bachelor's       Senior Marketing Analyst   \n",
       "371  43.0    Male        Master's         Director of Operations   \n",
       "372  29.0  Female      Bachelor's         Junior Project Manager   \n",
       "373  34.0    Male      Bachelor's  Senior Operations Coordinator   \n",
       "374  44.0  Female             PhD        Senior Business Analyst   \n",
       "\n",
       "     Years of Experience    Salary  \n",
       "370                  8.0   85000.0  \n",
       "371                 19.0  170000.0  \n",
       "372                  2.0   40000.0  \n",
       "373                  7.0   90000.0  \n",
       "374                 15.0  150000.0  "
      ]
     },
     "execution_count": 7,
     "metadata": {},
     "output_type": "execute_result"
    }
   ],
   "source": [
    "insured.tail()"
   ]
  },
  {
   "cell_type": "code",
   "execution_count": 8,
   "id": "70341dbc-e5af-4cb1-ab56-a659d8480bbe",
   "metadata": {},
   "outputs": [
    {
     "data": {
      "text/plain": [
       "(375, 6)"
      ]
     },
     "execution_count": 8,
     "metadata": {},
     "output_type": "execute_result"
    }
   ],
   "source": [
    "insured.shape"
   ]
  },
  {
   "cell_type": "code",
   "execution_count": 9,
   "id": "9432cc02-7852-49ef-bdad-71c8d62b74ac",
   "metadata": {},
   "outputs": [
    {
     "name": "stdout",
     "output_type": "stream",
     "text": [
      "<class 'pandas.core.frame.DataFrame'>\n",
      "RangeIndex: 375 entries, 0 to 374\n",
      "Data columns (total 6 columns):\n",
      " #   Column               Non-Null Count  Dtype  \n",
      "---  ------               --------------  -----  \n",
      " 0   Age                  373 non-null    float64\n",
      " 1   Gender               373 non-null    object \n",
      " 2   Education Level      373 non-null    object \n",
      " 3   Job Title            373 non-null    object \n",
      " 4   Years of Experience  373 non-null    float64\n",
      " 5   Salary               373 non-null    float64\n",
      "dtypes: float64(3), object(3)\n",
      "memory usage: 17.7+ KB\n"
     ]
    }
   ],
   "source": [
    "insured.info()    #it give information about datatype of different columns"
   ]
  },
  {
   "cell_type": "code",
   "execution_count": 10,
   "id": "a64ca2a4-c260-48d5-a15f-9866a95ca9b6",
   "metadata": {},
   "outputs": [
    {
     "data": {
      "text/html": [
       "<div>\n",
       "<style scoped>\n",
       "    .dataframe tbody tr th:only-of-type {\n",
       "        vertical-align: middle;\n",
       "    }\n",
       "\n",
       "    .dataframe tbody tr th {\n",
       "        vertical-align: top;\n",
       "    }\n",
       "\n",
       "    .dataframe thead th {\n",
       "        text-align: right;\n",
       "    }\n",
       "</style>\n",
       "<table border=\"1\" class=\"dataframe\">\n",
       "  <thead>\n",
       "    <tr style=\"text-align: right;\">\n",
       "      <th></th>\n",
       "      <th>Age</th>\n",
       "      <th>Years of Experience</th>\n",
       "      <th>Salary</th>\n",
       "    </tr>\n",
       "  </thead>\n",
       "  <tbody>\n",
       "    <tr>\n",
       "      <th>count</th>\n",
       "      <td>373.000000</td>\n",
       "      <td>373.000000</td>\n",
       "      <td>373.000000</td>\n",
       "    </tr>\n",
       "    <tr>\n",
       "      <th>mean</th>\n",
       "      <td>37.431635</td>\n",
       "      <td>10.030831</td>\n",
       "      <td>100577.345845</td>\n",
       "    </tr>\n",
       "    <tr>\n",
       "      <th>std</th>\n",
       "      <td>7.069073</td>\n",
       "      <td>6.557007</td>\n",
       "      <td>48240.013482</td>\n",
       "    </tr>\n",
       "    <tr>\n",
       "      <th>min</th>\n",
       "      <td>23.000000</td>\n",
       "      <td>0.000000</td>\n",
       "      <td>350.000000</td>\n",
       "    </tr>\n",
       "    <tr>\n",
       "      <th>25%</th>\n",
       "      <td>31.000000</td>\n",
       "      <td>4.000000</td>\n",
       "      <td>55000.000000</td>\n",
       "    </tr>\n",
       "    <tr>\n",
       "      <th>50%</th>\n",
       "      <td>36.000000</td>\n",
       "      <td>9.000000</td>\n",
       "      <td>95000.000000</td>\n",
       "    </tr>\n",
       "    <tr>\n",
       "      <th>75%</th>\n",
       "      <td>44.000000</td>\n",
       "      <td>15.000000</td>\n",
       "      <td>140000.000000</td>\n",
       "    </tr>\n",
       "    <tr>\n",
       "      <th>max</th>\n",
       "      <td>53.000000</td>\n",
       "      <td>25.000000</td>\n",
       "      <td>250000.000000</td>\n",
       "    </tr>\n",
       "  </tbody>\n",
       "</table>\n",
       "</div>"
      ],
      "text/plain": [
       "              Age  Years of Experience         Salary\n",
       "count  373.000000           373.000000     373.000000\n",
       "mean    37.431635            10.030831  100577.345845\n",
       "std      7.069073             6.557007   48240.013482\n",
       "min     23.000000             0.000000     350.000000\n",
       "25%     31.000000             4.000000   55000.000000\n",
       "50%     36.000000             9.000000   95000.000000\n",
       "75%     44.000000            15.000000  140000.000000\n",
       "max     53.000000            25.000000  250000.000000"
      ]
     },
     "execution_count": 10,
     "metadata": {},
     "output_type": "execute_result"
    }
   ],
   "source": [
    "insured.describe()"
   ]
  },
  {
   "cell_type": "code",
   "execution_count": 12,
   "id": "88e2348e-2934-4025-8d08-275c7d44794b",
   "metadata": {},
   "outputs": [
    {
     "data": {
      "text/plain": [
       "{'Account Manager',\n",
       " 'Accountant',\n",
       " 'Administrative Assistant',\n",
       " 'Business Analyst',\n",
       " 'Business Development Manager',\n",
       " 'Business Intelligence Analyst',\n",
       " 'CEO',\n",
       " 'Chief Data Officer',\n",
       " 'Chief Technology Officer',\n",
       " 'Content Marketing Manager',\n",
       " 'Copywriter',\n",
       " 'Creative Director',\n",
       " 'Customer Service Manager',\n",
       " 'Customer Service Rep',\n",
       " 'Customer Service Representative',\n",
       " 'Customer Success Manager',\n",
       " 'Customer Success Rep',\n",
       " 'Data Analyst',\n",
       " 'Data Entry Clerk',\n",
       " 'Data Scientist',\n",
       " 'Digital Content Producer',\n",
       " 'Digital Marketing Manager',\n",
       " 'Director',\n",
       " 'Director of Business Development',\n",
       " 'Director of Engineering',\n",
       " 'Director of Finance',\n",
       " 'Director of HR',\n",
       " 'Director of Human Capital',\n",
       " 'Director of Human Resources',\n",
       " 'Director of Marketing',\n",
       " 'Director of Operations',\n",
       " 'Director of Product Management',\n",
       " 'Director of Sales',\n",
       " 'Director of Sales and Marketing',\n",
       " 'Event Coordinator',\n",
       " 'Financial Advisor',\n",
       " 'Financial Analyst',\n",
       " 'Financial Manager',\n",
       " 'Graphic Designer',\n",
       " 'HR Generalist',\n",
       " 'HR Manager',\n",
       " 'Help Desk Analyst',\n",
       " 'Human Resources Director',\n",
       " 'IT Manager',\n",
       " 'IT Support',\n",
       " 'IT Support Specialist',\n",
       " 'Junior Account Manager',\n",
       " 'Junior Accountant',\n",
       " 'Junior Advertising Coordinator',\n",
       " 'Junior Business Analyst',\n",
       " 'Junior Business Development Associate',\n",
       " 'Junior Business Operations Analyst',\n",
       " 'Junior Copywriter',\n",
       " 'Junior Customer Support Specialist',\n",
       " 'Junior Data Analyst',\n",
       " 'Junior Data Scientist',\n",
       " 'Junior Designer',\n",
       " 'Junior Developer',\n",
       " 'Junior Financial Advisor',\n",
       " 'Junior Financial Analyst',\n",
       " 'Junior HR Coordinator',\n",
       " 'Junior HR Generalist',\n",
       " 'Junior Marketing Analyst',\n",
       " 'Junior Marketing Coordinator',\n",
       " 'Junior Marketing Manager',\n",
       " 'Junior Marketing Specialist',\n",
       " 'Junior Operations Analyst',\n",
       " 'Junior Operations Coordinator',\n",
       " 'Junior Operations Manager',\n",
       " 'Junior Product Manager',\n",
       " 'Junior Project Manager',\n",
       " 'Junior Recruiter',\n",
       " 'Junior Research Scientist',\n",
       " 'Junior Sales Representative',\n",
       " 'Junior Social Media Manager',\n",
       " 'Junior Social Media Specialist',\n",
       " 'Junior Software Developer',\n",
       " 'Junior Software Engineer',\n",
       " 'Junior UX Designer',\n",
       " 'Junior Web Designer',\n",
       " 'Junior Web Developer',\n",
       " 'Marketing Analyst',\n",
       " 'Marketing Coordinator',\n",
       " 'Marketing Manager',\n",
       " 'Marketing Specialist',\n",
       " 'Network Engineer',\n",
       " 'Office Manager',\n",
       " 'Operations Analyst',\n",
       " 'Operations Director',\n",
       " 'Operations Manager',\n",
       " 'Principal Engineer',\n",
       " 'Principal Scientist',\n",
       " 'Product Designer',\n",
       " 'Product Manager',\n",
       " 'Product Marketing Manager',\n",
       " 'Project Engineer',\n",
       " 'Project Manager',\n",
       " 'Public Relations Manager',\n",
       " 'Recruiter',\n",
       " 'Research Director',\n",
       " 'Research Scientist',\n",
       " 'Sales Associate',\n",
       " 'Sales Director',\n",
       " 'Sales Executive',\n",
       " 'Sales Manager',\n",
       " 'Sales Operations Manager',\n",
       " 'Sales Representative',\n",
       " 'Senior Account Executive',\n",
       " 'Senior Account Manager',\n",
       " 'Senior Accountant',\n",
       " 'Senior Business Analyst',\n",
       " 'Senior Business Development Manager',\n",
       " 'Senior Consultant',\n",
       " 'Senior Data Analyst',\n",
       " 'Senior Data Engineer',\n",
       " 'Senior Data Scientist',\n",
       " 'Senior Engineer',\n",
       " 'Senior Financial Advisor',\n",
       " 'Senior Financial Analyst',\n",
       " 'Senior Financial Manager',\n",
       " 'Senior Graphic Designer',\n",
       " 'Senior HR Generalist',\n",
       " 'Senior HR Manager',\n",
       " 'Senior HR Specialist',\n",
       " 'Senior Human Resources Coordinator',\n",
       " 'Senior Human Resources Manager',\n",
       " 'Senior Human Resources Specialist',\n",
       " 'Senior IT Consultant',\n",
       " 'Senior IT Project Manager',\n",
       " 'Senior IT Support Specialist',\n",
       " 'Senior Manager',\n",
       " 'Senior Marketing Analyst',\n",
       " 'Senior Marketing Coordinator',\n",
       " 'Senior Marketing Director',\n",
       " 'Senior Marketing Manager',\n",
       " 'Senior Marketing Specialist',\n",
       " 'Senior Operations Analyst',\n",
       " 'Senior Operations Coordinator',\n",
       " 'Senior Operations Manager',\n",
       " 'Senior Product Designer',\n",
       " 'Senior Product Development Manager',\n",
       " 'Senior Product Manager',\n",
       " 'Senior Product Marketing Manager',\n",
       " 'Senior Project Coordinator',\n",
       " 'Senior Project Manager',\n",
       " 'Senior Quality Assurance Analyst',\n",
       " 'Senior Research Scientist',\n",
       " 'Senior Researcher',\n",
       " 'Senior Sales Manager',\n",
       " 'Senior Sales Representative',\n",
       " 'Senior Scientist',\n",
       " 'Senior Software Architect',\n",
       " 'Senior Software Developer',\n",
       " 'Senior Software Engineer',\n",
       " 'Senior Training Specialist',\n",
       " 'Senior UX Designer',\n",
       " 'Social Media Manager',\n",
       " 'Social Media Specialist',\n",
       " 'Software Developer',\n",
       " 'Software Engineer',\n",
       " 'Software Manager',\n",
       " 'Software Project Manager',\n",
       " 'Strategy Consultant',\n",
       " 'Supply Chain Analyst',\n",
       " 'Supply Chain Manager',\n",
       " 'Technical Recruiter',\n",
       " 'Technical Support Specialist',\n",
       " 'Technical Writer',\n",
       " 'Training Specialist',\n",
       " 'UX Designer',\n",
       " 'UX Researcher',\n",
       " 'VP of Finance',\n",
       " 'VP of Operations',\n",
       " 'Web Developer',\n",
       " nan}"
      ]
     },
     "execution_count": 12,
     "metadata": {},
     "output_type": "execute_result"
    }
   ],
   "source": [
    "set(insured['Job Title'])"
   ]
  },
  {
   "cell_type": "code",
   "execution_count": 13,
   "id": "4cbb2763-7eb9-4007-a709-ea45171c22f3",
   "metadata": {},
   "outputs": [
    {
     "name": "stdout",
     "output_type": "stream",
     "text": [
      "Rows     :  375\n",
      "Columns  :  6\n"
     ]
    }
   ],
   "source": [
    "insured.shape\n",
    "#get the size of dataframe\n",
    "print (\"Rows     : \" , insured.shape[0])\n",
    "print (\"Columns  : \" , insured.shape[1])"
   ]
  },
  {
   "cell_type": "code",
   "execution_count": 14,
   "id": "b419332a-a10f-40d2-b79c-075b30013cc2",
   "metadata": {},
   "outputs": [
    {
     "data": {
      "text/plain": [
       "Age                    2\n",
       "Gender                 2\n",
       "Education Level        2\n",
       "Job Title              2\n",
       "Years of Experience    2\n",
       "Salary                 2\n",
       "dtype: int64"
      ]
     },
     "execution_count": 14,
     "metadata": {},
     "output_type": "execute_result"
    }
   ],
   "source": [
    "insured.isnull().sum()"
   ]
  },
  {
   "cell_type": "code",
   "execution_count": 15,
   "id": "d261a801-6f6b-402b-8dbf-422b6e6e2f81",
   "metadata": {},
   "outputs": [
    {
     "data": {
      "text/plain": [
       "12"
      ]
     },
     "execution_count": 15,
     "metadata": {},
     "output_type": "execute_result"
    }
   ],
   "source": [
    "insured.isnull().sum().values.sum()"
   ]
  },
  {
   "cell_type": "code",
   "execution_count": 16,
   "id": "3fe3feef-379d-4c26-b9cb-61022f0ddec3",
   "metadata": {},
   "outputs": [
    {
     "name": "stdout",
     "output_type": "stream",
     "text": [
      "\n",
      "Values : \n",
      " [[32.0 'Male' \"Bachelor's\" 'Software Engineer' 5.0 90000.0]\n",
      " [28.0 'Female' \"Master's\" 'Data Analyst' 3.0 65000.0]\n",
      " [45.0 'Male' 'PhD' 'Senior Manager' 15.0 150000.0]\n",
      " ...\n",
      " [29.0 'Female' \"Bachelor's\" 'Junior Project Manager' 2.0 40000.0]\n",
      " [34.0 'Male' \"Bachelor's\" 'Senior Operations Coordinator' 7.0 90000.0]\n",
      " [44.0 'Female' 'PhD' 'Senior Business Analyst' 15.0 150000.0]]\n",
      "\n",
      "Features : \n",
      " ['Age', 'Gender', 'Education Level', 'Job Title', 'Years of Experience', 'Salary']\n"
     ]
    }
   ],
   "source": [
    "print (\"\\nValues : \\n\", insured.values)\n",
    "print (\"\\nFeatures : \\n\", list(insured.columns))"
   ]
  },
  {
   "cell_type": "code",
   "execution_count": 17,
   "id": "f14e6b06-0637-474a-be65-f70db179b145",
   "metadata": {},
   "outputs": [],
   "source": [
    "#changing object dtype to category  to save memory\n",
    "insured['Gender']=insured['Gender'].astype(\"category\")\n",
    "insured['Education Level']=insured['Education Level'].astype(\"category\")\n",
    "insured['Job Title']=insured['Job Title'].astype(\"category\")"
   ]
  },
  {
   "cell_type": "code",
   "execution_count": 18,
   "id": "adc978bc-0e2c-470d-9d0f-1da0bdf9b195",
   "metadata": {},
   "outputs": [
    {
     "name": "stdout",
     "output_type": "stream",
     "text": [
      "<class 'pandas.core.frame.DataFrame'>\n",
      "RangeIndex: 375 entries, 0 to 374\n",
      "Data columns (total 6 columns):\n",
      " #   Column               Non-Null Count  Dtype   \n",
      "---  ------               --------------  -----   \n",
      " 0   Age                  373 non-null    float64 \n",
      " 1   Gender               373 non-null    category\n",
      " 2   Education Level      373 non-null    category\n",
      " 3   Job Title            373 non-null    category\n",
      " 4   Years of Experience  373 non-null    float64 \n",
      " 5   Salary               373 non-null    float64 \n",
      "dtypes: category(3), float64(3)\n",
      "memory usage: 16.1 KB\n"
     ]
    }
   ],
   "source": [
    "insured.info()"
   ]
  },
  {
   "cell_type": "code",
   "execution_count": 19,
   "id": "6ea14536-1abe-48c6-b94a-bc9393db1c1e",
   "metadata": {},
   "outputs": [
    {
     "data": {
      "text/html": [
       "<div>\n",
       "<style scoped>\n",
       "    .dataframe tbody tr th:only-of-type {\n",
       "        vertical-align: middle;\n",
       "    }\n",
       "\n",
       "    .dataframe tbody tr th {\n",
       "        vertical-align: top;\n",
       "    }\n",
       "\n",
       "    .dataframe thead th {\n",
       "        text-align: right;\n",
       "    }\n",
       "</style>\n",
       "<table border=\"1\" class=\"dataframe\">\n",
       "  <thead>\n",
       "    <tr style=\"text-align: right;\">\n",
       "      <th></th>\n",
       "      <th>Gender</th>\n",
       "      <th>Education Level</th>\n",
       "      <th>Job Title</th>\n",
       "    </tr>\n",
       "  </thead>\n",
       "  <tbody>\n",
       "    <tr>\n",
       "      <th>0</th>\n",
       "      <td>Male</td>\n",
       "      <td>Bachelor's</td>\n",
       "      <td>Software Engineer</td>\n",
       "    </tr>\n",
       "    <tr>\n",
       "      <th>1</th>\n",
       "      <td>Female</td>\n",
       "      <td>Master's</td>\n",
       "      <td>Data Analyst</td>\n",
       "    </tr>\n",
       "    <tr>\n",
       "      <th>2</th>\n",
       "      <td>Male</td>\n",
       "      <td>PhD</td>\n",
       "      <td>Senior Manager</td>\n",
       "    </tr>\n",
       "    <tr>\n",
       "      <th>3</th>\n",
       "      <td>Female</td>\n",
       "      <td>Bachelor's</td>\n",
       "      <td>Sales Associate</td>\n",
       "    </tr>\n",
       "    <tr>\n",
       "      <th>4</th>\n",
       "      <td>Male</td>\n",
       "      <td>Master's</td>\n",
       "      <td>Director</td>\n",
       "    </tr>\n",
       "    <tr>\n",
       "      <th>...</th>\n",
       "      <td>...</td>\n",
       "      <td>...</td>\n",
       "      <td>...</td>\n",
       "    </tr>\n",
       "    <tr>\n",
       "      <th>370</th>\n",
       "      <td>Female</td>\n",
       "      <td>Bachelor's</td>\n",
       "      <td>Senior Marketing Analyst</td>\n",
       "    </tr>\n",
       "    <tr>\n",
       "      <th>371</th>\n",
       "      <td>Male</td>\n",
       "      <td>Master's</td>\n",
       "      <td>Director of Operations</td>\n",
       "    </tr>\n",
       "    <tr>\n",
       "      <th>372</th>\n",
       "      <td>Female</td>\n",
       "      <td>Bachelor's</td>\n",
       "      <td>Junior Project Manager</td>\n",
       "    </tr>\n",
       "    <tr>\n",
       "      <th>373</th>\n",
       "      <td>Male</td>\n",
       "      <td>Bachelor's</td>\n",
       "      <td>Senior Operations Coordinator</td>\n",
       "    </tr>\n",
       "    <tr>\n",
       "      <th>374</th>\n",
       "      <td>Female</td>\n",
       "      <td>PhD</td>\n",
       "      <td>Senior Business Analyst</td>\n",
       "    </tr>\n",
       "  </tbody>\n",
       "</table>\n",
       "<p>375 rows × 3 columns</p>\n",
       "</div>"
      ],
      "text/plain": [
       "     Gender Education Level                      Job Title\n",
       "0      Male      Bachelor's              Software Engineer\n",
       "1    Female        Master's                   Data Analyst\n",
       "2      Male             PhD                 Senior Manager\n",
       "3    Female      Bachelor's                Sales Associate\n",
       "4      Male        Master's                       Director\n",
       "..      ...             ...                            ...\n",
       "370  Female      Bachelor's       Senior Marketing Analyst\n",
       "371    Male        Master's         Director of Operations\n",
       "372  Female      Bachelor's         Junior Project Manager\n",
       "373    Male      Bachelor's  Senior Operations Coordinator\n",
       "374  Female             PhD        Senior Business Analyst\n",
       "\n",
       "[375 rows x 3 columns]"
      ]
     },
     "execution_count": 19,
     "metadata": {},
     "output_type": "execute_result"
    }
   ],
   "source": [
    "insured.select_dtypes(['category'])"
   ]
  },
  {
   "cell_type": "code",
   "execution_count": 20,
   "id": "5ad2e2cf-04e1-4a69-9820-3a9b639fbdb4",
   "metadata": {},
   "outputs": [
    {
     "data": {
      "text/plain": [
       "Index(['Gender', 'Education Level', 'Job Title'], dtype='object')"
      ]
     },
     "execution_count": 20,
     "metadata": {},
     "output_type": "execute_result"
    }
   ],
   "source": [
    "insured.select_dtypes(['category']).columns"
   ]
  },
  {
   "cell_type": "code",
   "execution_count": 21,
   "id": "109a57cd-9204-4882-ae2b-1ee3a6456636",
   "metadata": {},
   "outputs": [
    {
     "data": {
      "text/html": [
       "<div>\n",
       "<style scoped>\n",
       "    .dataframe tbody tr th:only-of-type {\n",
       "        vertical-align: middle;\n",
       "    }\n",
       "\n",
       "    .dataframe tbody tr th {\n",
       "        vertical-align: top;\n",
       "    }\n",
       "\n",
       "    .dataframe thead th {\n",
       "        text-align: right;\n",
       "    }\n",
       "</style>\n",
       "<table border=\"1\" class=\"dataframe\">\n",
       "  <thead>\n",
       "    <tr style=\"text-align: right;\">\n",
       "      <th></th>\n",
       "      <th>Age</th>\n",
       "      <th>Years of Experience</th>\n",
       "      <th>Salary</th>\n",
       "    </tr>\n",
       "  </thead>\n",
       "  <tbody>\n",
       "    <tr>\n",
       "      <th>0</th>\n",
       "      <td>32.0</td>\n",
       "      <td>5.0</td>\n",
       "      <td>90000.0</td>\n",
       "    </tr>\n",
       "    <tr>\n",
       "      <th>1</th>\n",
       "      <td>28.0</td>\n",
       "      <td>3.0</td>\n",
       "      <td>65000.0</td>\n",
       "    </tr>\n",
       "    <tr>\n",
       "      <th>2</th>\n",
       "      <td>45.0</td>\n",
       "      <td>15.0</td>\n",
       "      <td>150000.0</td>\n",
       "    </tr>\n",
       "    <tr>\n",
       "      <th>3</th>\n",
       "      <td>36.0</td>\n",
       "      <td>7.0</td>\n",
       "      <td>60000.0</td>\n",
       "    </tr>\n",
       "    <tr>\n",
       "      <th>4</th>\n",
       "      <td>52.0</td>\n",
       "      <td>20.0</td>\n",
       "      <td>200000.0</td>\n",
       "    </tr>\n",
       "    <tr>\n",
       "      <th>...</th>\n",
       "      <td>...</td>\n",
       "      <td>...</td>\n",
       "      <td>...</td>\n",
       "    </tr>\n",
       "    <tr>\n",
       "      <th>370</th>\n",
       "      <td>35.0</td>\n",
       "      <td>8.0</td>\n",
       "      <td>85000.0</td>\n",
       "    </tr>\n",
       "    <tr>\n",
       "      <th>371</th>\n",
       "      <td>43.0</td>\n",
       "      <td>19.0</td>\n",
       "      <td>170000.0</td>\n",
       "    </tr>\n",
       "    <tr>\n",
       "      <th>372</th>\n",
       "      <td>29.0</td>\n",
       "      <td>2.0</td>\n",
       "      <td>40000.0</td>\n",
       "    </tr>\n",
       "    <tr>\n",
       "      <th>373</th>\n",
       "      <td>34.0</td>\n",
       "      <td>7.0</td>\n",
       "      <td>90000.0</td>\n",
       "    </tr>\n",
       "    <tr>\n",
       "      <th>374</th>\n",
       "      <td>44.0</td>\n",
       "      <td>15.0</td>\n",
       "      <td>150000.0</td>\n",
       "    </tr>\n",
       "  </tbody>\n",
       "</table>\n",
       "<p>375 rows × 3 columns</p>\n",
       "</div>"
      ],
      "text/plain": [
       "      Age  Years of Experience    Salary\n",
       "0    32.0                  5.0   90000.0\n",
       "1    28.0                  3.0   65000.0\n",
       "2    45.0                 15.0  150000.0\n",
       "3    36.0                  7.0   60000.0\n",
       "4    52.0                 20.0  200000.0\n",
       "..    ...                  ...       ...\n",
       "370  35.0                  8.0   85000.0\n",
       "371  43.0                 19.0  170000.0\n",
       "372  29.0                  2.0   40000.0\n",
       "373  34.0                  7.0   90000.0\n",
       "374  44.0                 15.0  150000.0\n",
       "\n",
       "[375 rows x 3 columns]"
      ]
     },
     "execution_count": 21,
     "metadata": {},
     "output_type": "execute_result"
    }
   ],
   "source": [
    "insured.select_dtypes(['float'])"
   ]
  },
  {
   "cell_type": "code",
   "execution_count": 22,
   "id": "892e097b-0984-4be6-919a-8b927d275c3a",
   "metadata": {},
   "outputs": [
    {
     "data": {
      "text/plain": [
       "Index(['Age', 'Years of Experience', 'Salary'], dtype='object')"
      ]
     },
     "execution_count": 22,
     "metadata": {},
     "output_type": "execute_result"
    }
   ],
   "source": [
    "insured.select_dtypes(['float']).columns"
   ]
  },
  {
   "cell_type": "code",
   "execution_count": 23,
   "id": "a9987b96-28ec-49ac-932c-76da72931b6b",
   "metadata": {},
   "outputs": [
    {
     "data": {
      "text/html": [
       "<div>\n",
       "<style scoped>\n",
       "    .dataframe tbody tr th:only-of-type {\n",
       "        vertical-align: middle;\n",
       "    }\n",
       "\n",
       "    .dataframe tbody tr th {\n",
       "        vertical-align: top;\n",
       "    }\n",
       "\n",
       "    .dataframe thead th {\n",
       "        text-align: right;\n",
       "    }\n",
       "</style>\n",
       "<table border=\"1\" class=\"dataframe\">\n",
       "  <thead>\n",
       "    <tr style=\"text-align: right;\">\n",
       "      <th></th>\n",
       "      <th>Gender</th>\n",
       "      <th>Education Level</th>\n",
       "      <th>Job Title</th>\n",
       "    </tr>\n",
       "  </thead>\n",
       "  <tbody>\n",
       "    <tr>\n",
       "      <th>0</th>\n",
       "      <td>Male</td>\n",
       "      <td>Bachelor's</td>\n",
       "      <td>Software Engineer</td>\n",
       "    </tr>\n",
       "    <tr>\n",
       "      <th>1</th>\n",
       "      <td>Female</td>\n",
       "      <td>Master's</td>\n",
       "      <td>Data Analyst</td>\n",
       "    </tr>\n",
       "    <tr>\n",
       "      <th>2</th>\n",
       "      <td>Male</td>\n",
       "      <td>PhD</td>\n",
       "      <td>Senior Manager</td>\n",
       "    </tr>\n",
       "    <tr>\n",
       "      <th>3</th>\n",
       "      <td>Female</td>\n",
       "      <td>Bachelor's</td>\n",
       "      <td>Sales Associate</td>\n",
       "    </tr>\n",
       "    <tr>\n",
       "      <th>4</th>\n",
       "      <td>Male</td>\n",
       "      <td>Master's</td>\n",
       "      <td>Director</td>\n",
       "    </tr>\n",
       "    <tr>\n",
       "      <th>...</th>\n",
       "      <td>...</td>\n",
       "      <td>...</td>\n",
       "      <td>...</td>\n",
       "    </tr>\n",
       "    <tr>\n",
       "      <th>370</th>\n",
       "      <td>Female</td>\n",
       "      <td>Bachelor's</td>\n",
       "      <td>Senior Marketing Analyst</td>\n",
       "    </tr>\n",
       "    <tr>\n",
       "      <th>371</th>\n",
       "      <td>Male</td>\n",
       "      <td>Master's</td>\n",
       "      <td>Director of Operations</td>\n",
       "    </tr>\n",
       "    <tr>\n",
       "      <th>372</th>\n",
       "      <td>Female</td>\n",
       "      <td>Bachelor's</td>\n",
       "      <td>Junior Project Manager</td>\n",
       "    </tr>\n",
       "    <tr>\n",
       "      <th>373</th>\n",
       "      <td>Male</td>\n",
       "      <td>Bachelor's</td>\n",
       "      <td>Senior Operations Coordinator</td>\n",
       "    </tr>\n",
       "    <tr>\n",
       "      <th>374</th>\n",
       "      <td>Female</td>\n",
       "      <td>PhD</td>\n",
       "      <td>Senior Business Analyst</td>\n",
       "    </tr>\n",
       "  </tbody>\n",
       "</table>\n",
       "<p>375 rows × 3 columns</p>\n",
       "</div>"
      ],
      "text/plain": [
       "     Gender Education Level                      Job Title\n",
       "0      Male      Bachelor's              Software Engineer\n",
       "1    Female        Master's                   Data Analyst\n",
       "2      Male             PhD                 Senior Manager\n",
       "3    Female      Bachelor's                Sales Associate\n",
       "4      Male        Master's                       Director\n",
       "..      ...             ...                            ...\n",
       "370  Female      Bachelor's       Senior Marketing Analyst\n",
       "371    Male        Master's         Director of Operations\n",
       "372  Female      Bachelor's         Junior Project Manager\n",
       "373    Male      Bachelor's  Senior Operations Coordinator\n",
       "374  Female             PhD        Senior Business Analyst\n",
       "\n",
       "[375 rows x 3 columns]"
      ]
     },
     "execution_count": 23,
     "metadata": {},
     "output_type": "execute_result"
    }
   ],
   "source": [
    "# get counts of unique observations for each category variable\n",
    "list_col=  insured[insured.select_dtypes(['category']).columns]\n",
    "list_col"
   ]
  },
  {
   "cell_type": "code",
   "execution_count": 24,
   "id": "cc6f3a89-66fc-4090-82f6-753d9a418688",
   "metadata": {},
   "outputs": [
    {
     "data": {
      "text/plain": [
       "Gender\n",
       "Male      194\n",
       "Female    179\n",
       "Name: count, dtype: int64"
      ]
     },
     "execution_count": 24,
     "metadata": {},
     "output_type": "execute_result"
    }
   ],
   "source": [
    "insured['Gender'].value_counts()"
   ]
  },
  {
   "cell_type": "code",
   "execution_count": 25,
   "id": "381336dc-c6e0-4cfb-8b2e-e1592cfc5a32",
   "metadata": {},
   "outputs": [
    {
     "data": {
      "text/plain": [
       "Education Level\n",
       "Bachelor's    224\n",
       "Master's       98\n",
       "PhD            51\n",
       "Name: count, dtype: int64"
      ]
     },
     "execution_count": 25,
     "metadata": {},
     "output_type": "execute_result"
    }
   ],
   "source": [
    "insured['Education Level'].value_counts()"
   ]
  },
  {
   "cell_type": "code",
   "execution_count": 26,
   "id": "17dc37b9-0e23-4289-8794-fc5002200c03",
   "metadata": {},
   "outputs": [
    {
     "data": {
      "text/plain": [
       "{\"Bachelor's\": 224, \"Master's\": 98, 'PhD': 51}"
      ]
     },
     "execution_count": 26,
     "metadata": {},
     "output_type": "execute_result"
    }
   ],
   "source": [
    "dict(insured['Education Level'].value_counts())"
   ]
  },
  {
   "cell_type": "code",
   "execution_count": 27,
   "id": "88106e86-faee-4014-9fd2-a28b16c50e0f",
   "metadata": {},
   "outputs": [
    {
     "data": {
      "text/plain": [
       "Job Title\n",
       "Director of Marketing                 12\n",
       "Director of Operations                11\n",
       "Senior Business Analyst               10\n",
       "Senior Marketing Analyst               9\n",
       "Senior Marketing Manager               9\n",
       "                                      ..\n",
       "Junior Designer                        1\n",
       "Junior Data Scientist                  1\n",
       "Junior Data Analyst                    1\n",
       "Junior Customer Support Specialist     1\n",
       "Web Developer                          1\n",
       "Name: count, Length: 174, dtype: int64"
      ]
     },
     "execution_count": 27,
     "metadata": {},
     "output_type": "execute_result"
    }
   ],
   "source": [
    "insured['Job Title'].value_counts()"
   ]
  },
  {
   "cell_type": "code",
   "execution_count": 28,
   "id": "8e5ea2f9-6524-4f3c-9c80-5124f2ff144e",
   "metadata": {},
   "outputs": [
    {
     "name": "stdout",
     "output_type": "stream",
     "text": [
      "Gender\n",
      "Male      194\n",
      "Female    179\n",
      "Name: count, dtype: int64\n",
      "Education Level\n",
      "Bachelor's    224\n",
      "Master's       98\n",
      "PhD            51\n",
      "Name: count, dtype: int64\n",
      "Job Title\n",
      "Director of Marketing                 12\n",
      "Director of Operations                11\n",
      "Senior Business Analyst               10\n",
      "Senior Marketing Analyst               9\n",
      "Senior Marketing Manager               9\n",
      "                                      ..\n",
      "Junior Designer                        1\n",
      "Junior Data Scientist                  1\n",
      "Junior Data Analyst                    1\n",
      "Junior Customer Support Specialist     1\n",
      "Web Developer                          1\n",
      "Name: count, Length: 174, dtype: int64\n"
     ]
    }
   ],
   "source": [
    "list_col = insured.select_dtypes(['category']).columns\n",
    "list_col\n",
    "for i in range(len(list_col)):\n",
    "    print(insured[list_col[i]].value_counts())"
   ]
  },
  {
   "cell_type": "code",
   "execution_count": 29,
   "id": "e33e3d1c-d3cb-4ff8-9c4d-aeee47a2cc53",
   "metadata": {},
   "outputs": [],
   "source": [
    "# # Function to create barplots that indicate percentage for each category.\n",
    "def bar_perc(plot, feature):\n",
    "    total = len(feature) # length of the column\n",
    "    for p in plot.patches:\n",
    "        percentage = '{:.1f}%'.format(100 * p.get_height()/total) # percentage of each class of the category\n",
    "        x = p.get_x() + p.get_width() / 2 - 0.05 # width of the plot\n",
    "        y = p.get_y() + p.get_height()           # hieght of the plot\n",
    "        plot.annotate(percentage, (x, y), size = 12) # annotate the percentage"
   ]
  },
  {
   "cell_type": "code",
   "execution_count": 30,
   "id": "e76603b1-3696-461c-bf04-7a43ab8e0a53",
   "metadata": {},
   "outputs": [
    {
     "data": {
      "text/plain": [
       "179"
      ]
     },
     "execution_count": 30,
     "metadata": {},
     "output_type": "execute_result"
    }
   ],
   "source": [
    "len(insured[insured['Gender'] == 'Female'])"
   ]
  },
  {
   "cell_type": "code",
   "execution_count": 31,
   "id": "28175ac5-320f-4192-980f-7b11d1cf532c",
   "metadata": {},
   "outputs": [
    {
     "data": {
      "image/png": "[encoded data removed]",
      "text/plain": [
       "<Figure size 640x480 with 1 Axes>"
      ]
     },
     "metadata": {},
     "output_type": "display_data"
    }
   ],
   "source": [
    "no_of_male = len(insured[insured['Gender'] == 'Male'])\n",
    "no_of_female = len(insured[insured['Gender'] == 'Female'])\n",
    "\n",
    "plt.bar(['Male','Female'],[no_of_male,no_of_female],color = ['r','g'],label = ['Male','Female'])\n",
    "plt.legend()\n",
    "plt.show()"
   ]
  },
  {
   "cell_type": "code",
   "execution_count": 32,
   "id": "17467256-3095-4dee-9cd9-93879dd1a459",
   "metadata": {},
   "outputs": [
    {
     "name": "stdout",
     "output_type": "stream",
     "text": [
      "{'Male': 194, 'Female': 179}\n"
     ]
    },
    {
     "data": {
      "image/png": "[encoded data removed]",
      "text/plain": [
       "<Figure size 640x480 with 1 Axes>"
      ]
     },
     "metadata": {},
     "output_type": "display_data"
    }
   ],
   "source": [
    "plot_data = dict(insured['Gender'].value_counts())#categorical  data lai count\n",
    "print(plot_data)\n",
    "plt.bar(['Male','Female'],[plot_data['Male'],plot_data['Female']],color = ['r','g'],label = ['Male','Female'])\n",
    "plt.legend()\n",
    "plt.show()"
   ]
  },
  {
   "cell_type": "code",
   "execution_count": 33,
   "id": "b3463122-d7fe-47cc-b552-c4b2d56041c2",
   "metadata": {},
   "outputs": [
    {
     "data": {
      "text/plain": [
       "<Axes: xlabel='Gender'>"
      ]
     },
     "execution_count": 33,
     "metadata": {},
     "output_type": "execute_result"
    },
    {
     "data": {
      "image/png": "[encoded data removed]",
      "text/plain": [
       "<Figure size 640x480 with 1 Axes>"
      ]
     },
     "metadata": {},
     "output_type": "display_data"
    }
   ],
   "source": [
    "insured['Gender'].value_counts().plot.bar()# for quicker plot(value count)"
   ]
  },
  {
   "cell_type": "code",
   "execution_count": 34,
   "id": "1b7730ea-a34e-41c4-b553-3775d1f2efcd",
   "metadata": {},
   "outputs": [
    {
     "data": {
      "text/plain": [
       "<Axes: ylabel='count'>"
      ]
     },
     "execution_count": 34,
     "metadata": {},
     "output_type": "execute_result"
    },
    {
     "data": {
      "image/png": "[encoded data removed]",
      "text/plain": [
       "<Figure size 640x480 with 1 Axes>"
      ]
     },
     "metadata": {},
     "output_type": "display_data"
    }
   ],
   "source": [
    "insured['Gender'].value_counts().plot.pie()"
   ]
  },
  {
   "cell_type": "code",
   "execution_count": 35,
   "id": "477b7729-8edf-4e76-a4c1-83ad0ca817fa",
   "metadata": {},
   "outputs": [
    {
     "data": {
      "image/png": "[encoded data removed]",
      "text/plain": [
       "<Figure size 640x480 with 1 Axes>"
      ]
     },
     "metadata": {},
     "output_type": "display_data"
    }
   ],
   "source": [
    "#Alternet\n",
    "#for education level\n",
    "no_of_bach = len(insured[insured['Education Level'] == \"Bachelor's\"])\n",
    "no_of_mast = len(insured[insured['Education Level'] == \"Master's\"])\n",
    "no_of_phd = len(insured[insured['Education Level'] == 'PhD'])\n",
    "\n",
    "plt.bar([\"Bachelor's\",\"Master's\",\"PhD\"],[no_of_bach,no_of_mast,no_of_phd], color = ['r','g','b'], label=[\"Bachelor's\",\"Master's\",\"PhD\"])\n",
    "plt.title('No of people with Education level')\n",
    "plt.legend()\n",
    "plt.show()"
   ]
  },
  {
   "cell_type": "code",
   "execution_count": 36,
   "id": "2ed22229-b5a4-4877-a175-d99b613ce69e",
   "metadata": {},
   "outputs": [
    {
     "data": {
      "text/plain": [
       "dict_keys(['Male', 'Female'])"
      ]
     },
     "execution_count": 36,
     "metadata": {},
     "output_type": "execute_result"
    }
   ],
   "source": [
    "plot_data.keys()"
   ]
  },
  {
   "cell_type": "code",
   "execution_count": 37,
   "id": "072c38d3-c478-4044-a1ee-a0263be3cf19",
   "metadata": {},
   "outputs": [
    {
     "data": {
      "text/plain": [
       "dict_values([194, 179])"
      ]
     },
     "execution_count": 37,
     "metadata": {},
     "output_type": "execute_result"
    }
   ],
   "source": [
    "plot_data.values()"
   ]
  },
  {
   "cell_type": "code",
   "execution_count": 38,
   "id": "7a84dec6-3495-43c2-aacc-a799b0ba9681",
   "metadata": {},
   "outputs": [
    {
     "name": "stdout",
     "output_type": "stream",
     "text": [
      "{\"Bachelor's\": 224, \"Master's\": 98, 'PhD': 51}\n"
     ]
    },
    {
     "data": {
      "image/png": "[encoded data removed]",
      "text/plain": [
       "<Figure size 640x480 with 1 Axes>"
      ]
     },
     "metadata": {},
     "output_type": "display_data"
    },
    {
     "data": {
      "text/plain": [
       "dict_keys([\"Bachelor's\", \"Master's\", 'PhD'])"
      ]
     },
     "execution_count": 38,
     "metadata": {},
     "output_type": "execute_result"
    }
   ],
   "source": [
    "plot_data = dict(insured['Education Level'].value_counts())\n",
    "print(plot_data)\n",
    "plt.bar(plot_data.keys(),plot_data.values(),color = ['r','g','b'],label = plot_data.keys())\n",
    "plt.legend()\n",
    "plt.show()\n",
    "plot_data\n",
    "plot_data.keys()"
   ]
  },
  {
   "cell_type": "code",
   "execution_count": 39,
   "id": "48a61e80-9a33-4f22-8185-495d1ea937cd",
   "metadata": {},
   "outputs": [
    {
     "data": {
      "text/plain": [
       "<Axes: xlabel='Education Level'>"
      ]
     },
     "execution_count": 39,
     "metadata": {},
     "output_type": "execute_result"
    },
    {
     "data": {
      "image/png": "[encoded data removed]",
      "text/plain": [
       "<Figure size 640x480 with 1 Axes>"
      ]
     },
     "metadata": {},
     "output_type": "display_data"
    }
   ],
   "source": [
    "insured['Education Level'].value_counts().plot.bar(color = ['r','g','b'])"
   ]
  },
  {
   "cell_type": "code",
   "execution_count": 42,
   "id": "fe77d959-6437-4ccd-bdbc-1d092388cfed",
   "metadata": {},
   "outputs": [
    {
     "name": "stdout",
     "output_type": "stream",
     "text": [
      "Index(['Gender', 'Education Level', 'Job Title'], dtype='object')\n"
     ]
    }
   ],
   "source": [
    "data = {}\n",
    "list_col=  insured.select_dtypes(['category']).columns\n",
    "print(list_col)\n",
    "for i in range(len(list_col)):\n",
    "  values = list(insured[list_col[i]].value_counts())\n",
    "  subcategory = list(insured[list_col[i]].value_counts().index)\n",
    "  # data['x'] = values\n",
    "  data[list_col[i]] = [subcategory,values]\n",
    "  # print(subcategory,values)\n",
    "\n",
    "# print(data)"
   ]
  },
  {
   "cell_type": "code",
   "execution_count": 43,
   "id": "d685fae4-ecb5-45ca-a8a7-13cf86deae85",
   "metadata": {},
   "outputs": [
    {
     "name": "stdout",
     "output_type": "stream",
     "text": [
      "[[\"Bachelor's\", \"Master's\", 'PhD'], [224, 98, 51]]\n"
     ]
    },
    {
     "data": {
      "image/png": "[encoded data removed]",
      "text/plain": [
       "<Figure size 640x480 with 1 Axes>"
      ]
     },
     "metadata": {},
     "output_type": "display_data"
    }
   ],
   "source": [
    "#Alternate\n",
    "print(data['Education Level'])\n",
    "plt.bar(data['Education Level'][0],data['Education Level'][1],\n",
    "        label=data['Education Level'][0],\n",
    "        color = ['g','r','b'])\n",
    "plt.title('Education level')\n",
    "plt.legend()\n",
    "plt.show()"
   ]
  },
  {
   "cell_type": "code",
   "execution_count": 44,
   "id": "0e62f14a-ceac-4f7a-9b04-52bb7222e328",
   "metadata": {},
   "outputs": [],
   "source": [
    "#bivariate\n",
    "corr_insured = insured[['Age','Years of Experience','Salary']]"
   ]
  },
  {
   "cell_type": "code",
   "execution_count": 45,
   "id": "3fbf25c7-14f0-483b-85af-75fe27fcae2d",
   "metadata": {},
   "outputs": [
    {
     "data": {
      "text/html": [
       "<div>\n",
       "<style scoped>\n",
       "    .dataframe tbody tr th:only-of-type {\n",
       "        vertical-align: middle;\n",
       "    }\n",
       "\n",
       "    .dataframe tbody tr th {\n",
       "        vertical-align: top;\n",
       "    }\n",
       "\n",
       "    .dataframe thead th {\n",
       "        text-align: right;\n",
       "    }\n",
       "</style>\n",
       "<table border=\"1\" class=\"dataframe\">\n",
       "  <thead>\n",
       "    <tr style=\"text-align: right;\">\n",
       "      <th></th>\n",
       "      <th>Age</th>\n",
       "      <th>Years of Experience</th>\n",
       "      <th>Salary</th>\n",
       "    </tr>\n",
       "  </thead>\n",
       "  <tbody>\n",
       "    <tr>\n",
       "      <th>Age</th>\n",
       "      <td>1.000000</td>\n",
       "      <td>0.979128</td>\n",
       "      <td>0.922335</td>\n",
       "    </tr>\n",
       "    <tr>\n",
       "      <th>Years of Experience</th>\n",
       "      <td>0.979128</td>\n",
       "      <td>1.000000</td>\n",
       "      <td>0.930338</td>\n",
       "    </tr>\n",
       "    <tr>\n",
       "      <th>Salary</th>\n",
       "      <td>0.922335</td>\n",
       "      <td>0.930338</td>\n",
       "      <td>1.000000</td>\n",
       "    </tr>\n",
       "  </tbody>\n",
       "</table>\n",
       "</div>"
      ],
      "text/plain": [
       "                          Age  Years of Experience    Salary\n",
       "Age                  1.000000             0.979128  0.922335\n",
       "Years of Experience  0.979128             1.000000  0.930338\n",
       "Salary               0.922335             0.930338  1.000000"
      ]
     },
     "execution_count": 45,
     "metadata": {},
     "output_type": "execute_result"
    }
   ],
   "source": [
    "corr_insured.corr()"
   ]
  },
  {
   "cell_type": "code",
   "execution_count": 46,
   "id": "7a2e9b0d-d5e9-453e-ab92-9207614de7ac",
   "metadata": {},
   "outputs": [
    {
     "data": {
      "image/png": "[encoded data removed]",
      "text/plain": [
       "<Figure size 1500x500 with 2 Axes>"
      ]
     },
     "metadata": {},
     "output_type": "display_data"
    }
   ],
   "source": [
    "plt.figure(figsize=(15,5))\n",
    "sns.heatmap(corr_insured.corr(),annot=True)\n",
    "plt.show()"
   ]
  },
  {
   "cell_type": "code",
   "execution_count": 47,
   "id": "5124af7b-f57a-416a-aa57-5d3525d854ef",
   "metadata": {},
   "outputs": [
    {
     "data": {
      "text/plain": [
       "<Figure size 500x500 with 0 Axes>"
      ]
     },
     "metadata": {},
     "output_type": "display_data"
    },
    {
     "data": {
      "image/png": "[encoded data removed]",
      "text/plain": [
       "<Figure size 750x750 with 12 Axes>"
      ]
     },
     "metadata": {},
     "output_type": "display_data"
    }
   ],
   "source": [
    "plt.figure(figsize=(5,5))\n",
    "sns.pairplot(data=insured)\n",
    "plt.show()"
   ]
  },
  {
   "cell_type": "code",
   "execution_count": 50,
   "id": "2268d828-3c52-4ef7-a572-837002fe8779",
   "metadata": {},
   "outputs": [
    {
     "data": {
      "text/plain": [
       "<Axes: xlabel='Education Level', ylabel='count'>"
      ]
     },
     "execution_count": 50,
     "metadata": {},
     "output_type": "execute_result"
    },
    {
     "data": {
      "image/png": "[encoded data removed]",
      "text/plain": [
       "<Figure size 1300x500 with 1 Axes>"
      ]
     },
     "metadata": {},
     "output_type": "display_data"
    }
   ],
   "source": [
    "#Gender count plot\n",
    "plt.figure(figsize=(13,5))\n",
    "sns.countplot(x='Education Level',hue='Gender',data=insured)\n",
    "# bar_perc(ax,insured['Education Level'])"
   ]
  },
  {
   "cell_type": "code",
   "execution_count": 51,
   "id": "55e7e8c1-c48b-480b-b1b7-8ce2e195bc2d",
   "metadata": {},
   "outputs": [
    {
     "data": {
      "image/png": "[encoded data removed]",
      "text/plain": [
       "<Figure size 1300x500 with 1 Axes>"
      ]
     },
     "metadata": {},
     "output_type": "display_data"
    }
   ],
   "source": [
    "#Sex vs Education Level\n",
    "plt.figure(figsize=(13,5))\n",
    "ax=sns.countplot(x='Gender',hue='Education Level',data=insured)\n",
    "# bar_perc(ax,insured['Education Level'])"
   ]
  },
  {
   "cell_type": "code",
   "execution_count": null,
   "id": "386fcd7f-5149-46cd-9393-dcc8d144504d",
   "metadata": {},
   "outputs": [],
   "source": []
  }
 ],
 "metadata": {
  "kernelspec": {
   "display_name": "Python 3 (ipykernel)",
   "language": "python",
   "name": "python3"
  },
  "language_info": {
   "codemirror_mode": {
    "name": "ipython",
    "version": 3
   },
   "file_extension": ".py",
   "mimetype": "text/x-python",
   "name": "python",
   "nbconvert_exporter": "python",
   "pygments_lexer": "ipython3",
   "version": "3.12.4"
  }
 },
 "nbformat": 4,
 "nbformat_minor": 5
}
